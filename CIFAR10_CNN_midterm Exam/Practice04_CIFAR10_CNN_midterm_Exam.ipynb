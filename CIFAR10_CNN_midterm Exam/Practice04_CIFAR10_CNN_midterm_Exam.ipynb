{
  "nbformat": 4,
  "nbformat_minor": 5,
  "metadata": {
    "colab": {
      "name": "Practice04_CIFAR10_CNN_midtest.ipynb",
      "provenance": [],
      "collapsed_sections": []
    },
    "kernelspec": {
      "display_name": "conda_pytorch_p27",
      "language": "python",
      "name": "conda_pytorch_p27"
    },
    "language_info": {
      "codemirror_mode": {
        "name": "ipython",
        "version": 2
      },
      "file_extension": ".py",
      "mimetype": "text/x-python",
      "name": "python",
      "nbconvert_exporter": "python",
      "pygments_lexer": "ipython2",
      "version": "2.7.16"
    },
    "accelerator": "GPU",
    "widgets": {
      "application/vnd.jupyter.widget-state+json": {
        "7cabbcc175a7416abbd1590bb6b9299f": {
          "model_module": "@jupyter-widgets/controls",
          "model_name": "HBoxModel",
          "state": {
            "_view_name": "HBoxView",
            "_dom_classes": [],
            "_model_name": "HBoxModel",
            "_view_module": "@jupyter-widgets/controls",
            "_model_module_version": "1.5.0",
            "_view_count": null,
            "_view_module_version": "1.5.0",
            "box_style": "",
            "layout": "IPY_MODEL_bbad57aa605643b5b789f42ac982f3a6",
            "_model_module": "@jupyter-widgets/controls",
            "children": [
              "IPY_MODEL_df5dbe443b924f63b6e1c53850b46b05",
              "IPY_MODEL_05e0bad476144fcc8d5fa4ebbd7b10ef"
            ]
          }
        },
        "bbad57aa605643b5b789f42ac982f3a6": {
          "model_module": "@jupyter-widgets/base",
          "model_name": "LayoutModel",
          "state": {
            "_view_name": "LayoutView",
            "grid_template_rows": null,
            "right": null,
            "justify_content": null,
            "_view_module": "@jupyter-widgets/base",
            "overflow": null,
            "_model_module_version": "1.2.0",
            "_view_count": null,
            "flex_flow": null,
            "width": null,
            "min_width": null,
            "border": null,
            "align_items": null,
            "bottom": null,
            "_model_module": "@jupyter-widgets/base",
            "top": null,
            "grid_column": null,
            "overflow_y": null,
            "overflow_x": null,
            "grid_auto_flow": null,
            "grid_area": null,
            "grid_template_columns": null,
            "flex": null,
            "_model_name": "LayoutModel",
            "justify_items": null,
            "grid_row": null,
            "max_height": null,
            "align_content": null,
            "visibility": null,
            "align_self": null,
            "height": null,
            "min_height": null,
            "padding": null,
            "grid_auto_rows": null,
            "grid_gap": null,
            "max_width": null,
            "order": null,
            "_view_module_version": "1.2.0",
            "grid_template_areas": null,
            "object_position": null,
            "object_fit": null,
            "grid_auto_columns": null,
            "margin": null,
            "display": null,
            "left": null
          }
        },
        "df5dbe443b924f63b6e1c53850b46b05": {
          "model_module": "@jupyter-widgets/controls",
          "model_name": "FloatProgressModel",
          "state": {
            "_view_name": "ProgressView",
            "style": "IPY_MODEL_f7dac8346c7447658f69896f0a250a9e",
            "_dom_classes": [],
            "description": "",
            "_model_name": "FloatProgressModel",
            "bar_style": "success",
            "max": 170498071,
            "_view_module": "@jupyter-widgets/controls",
            "_model_module_version": "1.5.0",
            "value": 170498071,
            "_view_count": null,
            "_view_module_version": "1.5.0",
            "orientation": "horizontal",
            "min": 0,
            "description_tooltip": null,
            "_model_module": "@jupyter-widgets/controls",
            "layout": "IPY_MODEL_6258caee2b8743b99ac6e719107784c1"
          }
        },
        "05e0bad476144fcc8d5fa4ebbd7b10ef": {
          "model_module": "@jupyter-widgets/controls",
          "model_name": "HTMLModel",
          "state": {
            "_view_name": "HTMLView",
            "style": "IPY_MODEL_2e58a2f0396b4fd88c3163e9bb68ab0c",
            "_dom_classes": [],
            "description": "",
            "_model_name": "HTMLModel",
            "placeholder": "​",
            "_view_module": "@jupyter-widgets/controls",
            "_model_module_version": "1.5.0",
            "value": " 170499072/? [00:07&lt;00:00, 23856638.17it/s]",
            "_view_count": null,
            "_view_module_version": "1.5.0",
            "description_tooltip": null,
            "_model_module": "@jupyter-widgets/controls",
            "layout": "IPY_MODEL_397463b5777544a99dc00e20fc8abe4e"
          }
        },
        "f7dac8346c7447658f69896f0a250a9e": {
          "model_module": "@jupyter-widgets/controls",
          "model_name": "ProgressStyleModel",
          "state": {
            "_view_name": "StyleView",
            "_model_name": "ProgressStyleModel",
            "description_width": "initial",
            "_view_module": "@jupyter-widgets/base",
            "_model_module_version": "1.5.0",
            "_view_count": null,
            "_view_module_version": "1.2.0",
            "bar_color": null,
            "_model_module": "@jupyter-widgets/controls"
          }
        },
        "6258caee2b8743b99ac6e719107784c1": {
          "model_module": "@jupyter-widgets/base",
          "model_name": "LayoutModel",
          "state": {
            "_view_name": "LayoutView",
            "grid_template_rows": null,
            "right": null,
            "justify_content": null,
            "_view_module": "@jupyter-widgets/base",
            "overflow": null,
            "_model_module_version": "1.2.0",
            "_view_count": null,
            "flex_flow": null,
            "width": null,
            "min_width": null,
            "border": null,
            "align_items": null,
            "bottom": null,
            "_model_module": "@jupyter-widgets/base",
            "top": null,
            "grid_column": null,
            "overflow_y": null,
            "overflow_x": null,
            "grid_auto_flow": null,
            "grid_area": null,
            "grid_template_columns": null,
            "flex": null,
            "_model_name": "LayoutModel",
            "justify_items": null,
            "grid_row": null,
            "max_height": null,
            "align_content": null,
            "visibility": null,
            "align_self": null,
            "height": null,
            "min_height": null,
            "padding": null,
            "grid_auto_rows": null,
            "grid_gap": null,
            "max_width": null,
            "order": null,
            "_view_module_version": "1.2.0",
            "grid_template_areas": null,
            "object_position": null,
            "object_fit": null,
            "grid_auto_columns": null,
            "margin": null,
            "display": null,
            "left": null
          }
        },
        "2e58a2f0396b4fd88c3163e9bb68ab0c": {
          "model_module": "@jupyter-widgets/controls",
          "model_name": "DescriptionStyleModel",
          "state": {
            "_view_name": "StyleView",
            "_model_name": "DescriptionStyleModel",
            "description_width": "",
            "_view_module": "@jupyter-widgets/base",
            "_model_module_version": "1.5.0",
            "_view_count": null,
            "_view_module_version": "1.2.0",
            "_model_module": "@jupyter-widgets/controls"
          }
        },
        "397463b5777544a99dc00e20fc8abe4e": {
          "model_module": "@jupyter-widgets/base",
          "model_name": "LayoutModel",
          "state": {
            "_view_name": "LayoutView",
            "grid_template_rows": null,
            "right": null,
            "justify_content": null,
            "_view_module": "@jupyter-widgets/base",
            "overflow": null,
            "_model_module_version": "1.2.0",
            "_view_count": null,
            "flex_flow": null,
            "width": null,
            "min_width": null,
            "border": null,
            "align_items": null,
            "bottom": null,
            "_model_module": "@jupyter-widgets/base",
            "top": null,
            "grid_column": null,
            "overflow_y": null,
            "overflow_x": null,
            "grid_auto_flow": null,
            "grid_area": null,
            "grid_template_columns": null,
            "flex": null,
            "_model_name": "LayoutModel",
            "justify_items": null,
            "grid_row": null,
            "max_height": null,
            "align_content": null,
            "visibility": null,
            "align_self": null,
            "height": null,
            "min_height": null,
            "padding": null,
            "grid_auto_rows": null,
            "grid_gap": null,
            "max_width": null,
            "order": null,
            "_view_module_version": "1.2.0",
            "grid_template_areas": null,
            "object_position": null,
            "object_fit": null,
            "grid_auto_columns": null,
            "margin": null,
            "display": null,
            "left": null
          }
        }
      }
    }
  },
  "cells": [
    {
      "cell_type": "markdown",
      "metadata": {
        "id": "infectious-shock"
      },
      "source": [
        "# 심층학습 (Deep Learning)\n",
        "## 실습04 심층신경망 훈련 - CIFAR10 인식 정확도 챌린지 (중간 대체 과제)\n",
        "### 201810793 이연우"
      ],
      "id": "infectious-shock"
    },
    {
      "cell_type": "markdown",
      "metadata": {
        "id": "XjeO4qQ5sJ6V"
      },
      "source": [
        "### 구글 드라이버와 연결하기"
      ],
      "id": "XjeO4qQ5sJ6V"
    },
    {
      "cell_type": "code",
      "metadata": {
        "colab": {
          "base_uri": "https://localhost:8080/",
          "height": 0
        },
        "id": "epkBws0wZTzs",
        "outputId": "0f2222be-7c63-4b42-e506-e8cc45f14c36"
      },
      "source": [
        "from google.colab import drive\n",
        "drive.mount('/content/gdrive')"
      ],
      "id": "epkBws0wZTzs",
      "execution_count": 1,
      "outputs": [
        {
          "output_type": "stream",
          "text": [
            "Mounted at /content/gdrive\n"
          ],
          "name": "stdout"
        }
      ]
    },
    {
      "cell_type": "markdown",
      "metadata": {
        "id": "acquired-petersburg"
      },
      "source": [
        "### CIFAR10을 CNN 으로 학습하기. 여러 학습 방법으로 비교"
      ],
      "id": "acquired-petersburg"
    },
    {
      "cell_type": "code",
      "metadata": {
        "id": "touched-novel"
      },
      "source": [
        "import numpy as np\n",
        "import torch\n",
        "import torch.nn as nn\n",
        "import torch.optim as optim\n",
        "import torch.nn.init as init\n",
        "import torchvision.datasets as dset\n",
        "import torchvision.transforms as transforms\n",
        "from torch.utils.data import DataLoader\n",
        "from torch.autograd import Variable\n",
        "import matplotlib.pyplot as plt\n",
        "from tqdm import tqdm\n",
        "\n",
        "#learning rate decay\n",
        "from torch.optim import lr_scheduler\n",
        "\n",
        "batch_size = 16\n",
        "learning_rate = 0.002\n",
        "num_epoch = 120 # 100번이상 해야지 제대로 학습됨, 어느정도 효과있는지 확인을 위해 1만"
      ],
      "id": "touched-novel",
      "execution_count": 2,
      "outputs": []
    },
    {
      "cell_type": "markdown",
      "metadata": {
        "id": "empty-collins"
      },
      "source": [
        "### 1. CIFAR 10 train, test dataset 가져오기 (163 MB)\n",
        "MNIST : 11MB"
      ],
      "id": "empty-collins"
    },
    {
      "cell_type": "code",
      "metadata": {
        "id": "august-caution",
        "colab": {
          "base_uri": "https://localhost:8080/",
          "height": 119,
          "referenced_widgets": [
            "7cabbcc175a7416abbd1590bb6b9299f",
            "bbad57aa605643b5b789f42ac982f3a6",
            "df5dbe443b924f63b6e1c53850b46b05",
            "05e0bad476144fcc8d5fa4ebbd7b10ef",
            "f7dac8346c7447658f69896f0a250a9e",
            "6258caee2b8743b99ac6e719107784c1",
            "2e58a2f0396b4fd88c3163e9bb68ab0c",
            "397463b5777544a99dc00e20fc8abe4e"
          ]
        },
        "outputId": "29d0c343-9547-4759-b5ed-3613c71896e5"
      },
      "source": [
        "#cifar_train = dset.CIFAR10(\"CIFAR10/\",train = True, transform = transforms.ToTensor(), target_transform = None, download = True)\n",
        "#cifar_test = dset.CIFAR10(\"CIFAR10/\",train = False, transform = transforms.ToTensor(), target_transform = None, download = True)\n",
        "\n",
        "#(2) Data augmentation\n",
        "# 위의 두 줄 주석\n",
        "'''\n",
        "# train 데이터 set을 불리는 효과, test 데이터셋에서는 하지 않는다.\n",
        "cifar_train=dset.CIFAR10(\"CIFAR10/\",train=True, \n",
        "                        transform=transforms.Compose([\n",
        "                            #transforms.Scale(36), # 36만큼 키운다음\n",
        "                            #transforms.CenterCrop(32), # 32만큼 크롭\n",
        "                            transforms.RandomHorizontalFlip(), # 수평, 가로 방향으로 반전\n",
        "                            transforms.Lambda(lambda x: x.rotate(1)), # 90도 회전\n",
        "                            transforms.ToTensor()]))\n",
        "                            # 투투렌스폼을 포함해서 위와 같은것들을 해달라\n",
        "                            # 로딩할때마다 위를 적절히 섞어서 Data augmentation을 해줌\n",
        "cifar_test = dset.CIFAR10(\"CIFAR10/\",train = False, transform = transforms.ToTensor(), target_transform = None, download = True)\n",
        "\n",
        "\n",
        "#(4) Data Normalization\n",
        "'''\n",
        "# 맨 위의 두 줄 주석\n",
        "# train할 때도 test할때도 Data Normalization을 한다.\n",
        "cifar_train=dset.CIFAR10(\"CIFAR10/\",train=True,\n",
        "                        transform=transforms.Compose([\n",
        "                            transforms.ToTensor(),\n",
        "                            transforms.Normalize(mean=(0.5,0.5,0.5),std= (0.2,0.5,0.8)),\n",
        "                            ])\n",
        "                         ,target_transform=None,download=True)\n",
        "cifar_test=dset.CIFAR10(\"CIFAR10/\",train=False,\n",
        "                        transform=transforms.Compose([\n",
        "                            transforms.ToTensor(),\n",
        "                            transforms.Normalize(mean=(0.5,0.5,0.5),std= (0.2,0.5,0.8)),\n",
        "                        ])\n",
        "                         ,target_transform=None,download=True)\n"
      ],
      "id": "august-caution",
      "execution_count": 3,
      "outputs": [
        {
          "output_type": "stream",
          "text": [
            "Downloading https://www.cs.toronto.edu/~kriz/cifar-10-python.tar.gz to CIFAR10/cifar-10-python.tar.gz\n"
          ],
          "name": "stdout"
        },
        {
          "output_type": "display_data",
          "data": {
            "application/vnd.jupyter.widget-view+json": {
              "model_id": "7cabbcc175a7416abbd1590bb6b9299f",
              "version_minor": 0,
              "version_major": 2
            },
            "text/plain": [
              "HBox(children=(FloatProgress(value=0.0, max=170498071.0), HTML(value='')))"
            ]
          },
          "metadata": {
            "tags": []
          }
        },
        {
          "output_type": "stream",
          "text": [
            "\n",
            "Extracting CIFAR10/cifar-10-python.tar.gz to CIFAR10/\n",
            "Files already downloaded and verified\n"
          ],
          "name": "stdout"
        }
      ]
    },
    {
      "cell_type": "markdown",
      "metadata": {
        "id": "composed-entrance"
      },
      "source": [
        "### 2. 대략적인 데이터 형태"
      ],
      "id": "composed-entrance"
    },
    {
      "cell_type": "code",
      "metadata": {
        "colab": {
          "base_uri": "https://localhost:8080/",
          "height": 386
        },
        "id": "continuous-operator",
        "scrolled": true,
        "outputId": "3f6bd7e8-69af-477f-b033-264f09c25d71"
      },
      "source": [
        "print (\"cifar_train 길이:\",len(cifar_train))\n",
        "print (\"cifar_test 길이:\",len(cifar_test))\n",
        "\n",
        "# 데이터 하나 형태\n",
        "image, label = cifar_train.__getitem__(30) #30번째 데이터\n",
        "print (\"image data 형태: \",image.size()) # [채널수, W, H], RGB = 3채널)\n",
        "print (\"label: \", label)\n",
        "\n",
        "#그리기\n",
        "img=image.numpy() #image 타입을 numpy로 변환(3, 32, 32)\n",
        "\n",
        "#(3,32,32)->(32,32,3) # 채널을 뒤로 옮겨야함\n",
        "r,g,b=img[0,:,:],img[1,:,:],img[2,:,:]\n",
        "\n",
        "#img=img.reshape(img.shape[1],img.shape[2],img.shape[0])\n",
        "img2=np.zeros((img.shape[1],img.shape[2],img.shape[0]))\n",
        "img2[:,:,0],img2[:,:,1],img2[:,:,2]=r,g,b\n",
        "\n",
        "plt.title(\"label: %d\" %label)\n",
        "plt.imshow(img2,interpolation='bicubic')\n",
        "plt.show"
      ],
      "id": "continuous-operator",
      "execution_count": 4,
      "outputs": [
        {
          "output_type": "stream",
          "text": [
            "Clipping input data to the valid range for imshow with RGB data ([0..1] for floats or [0..255] for integers).\n"
          ],
          "name": "stderr"
        },
        {
          "output_type": "stream",
          "text": [
            "cifar_train 길이: 50000\n",
            "cifar_test 길이: 10000\n",
            "image data 형태:  torch.Size([3, 32, 32])\n",
            "label:  0\n"
          ],
          "name": "stdout"
        },
        {
          "output_type": "execute_result",
          "data": {
            "text/plain": [
              "<function matplotlib.pyplot.show>"
            ]
          },
          "metadata": {
            "tags": []
          },
          "execution_count": 4
        },
        {
          "output_type": "display_data",
          "data": {
            "image/png": "[encoded data removed]",
            "text/plain": [
              "<Figure size 432x288 with 1 Axes>"
            ]
          },
          "metadata": {
            "tags": [],
            "needs_background": "light"
          }
        }
      ]
    },
    {
      "cell_type": "code",
      "metadata": {
        "id": "approximate-report"
      },
      "source": [
        "def ComputeAccr(dloader, imodel):\n",
        "    correct=0\n",
        "    total=0\n",
        "    \n",
        "    for j, [imgs,labels] in enumerate(dloader): #batch_size 만큼\n",
        "        img=Variable(imgs,volatile=True).cuda() #x\n",
        "        #label=Variable(labels) #y\n",
        "        label=Variable(labels).cuda()\n",
        "        #.cuda(): GPU에 로드되기 위함, 만약 CPU로 설정되어 있다면 에러남\n",
        "        \n",
        "        output=imodel.forward(img)#forward prop.\n",
        "        _, output_index=torch.max(output,1)\n",
        "        \n",
        "        total+=label.size(0)\n",
        "        correct+=(output_index==label).sum().float()\n",
        "    print(\"Accuracy of Test Data: {}\".format(100*correct/total))"
      ],
      "id": "approximate-report",
      "execution_count": 5,
      "outputs": []
    },
    {
      "cell_type": "code",
      "metadata": {
        "id": "strategic-domestic"
      },
      "source": [
        "# == 3.데이터 로드함수 ==\n",
        "train_loader=torch.utils.data.DataLoader(list(cifar_train)[:],batch_size=batch_size,shuffle=True,num_workers=2,drop_last=True)\n",
        "test_loader=torch.utils.data.DataLoader(cifar_test,batch_size=batch_size,shuffle=False,num_workers=2,drop_last=True)\n",
        "\n",
        "# == 4.모델 선언 ==\n",
        "class CNN(nn.Module): # week7 기준 배우지 않았으니 보기만\n",
        "    def __init__(self):\n",
        "        super(CNN,self).__init__()\n",
        "        self.layer=nn.Sequential(\n",
        "            nn.Conv2d(3,16,3,padding=1),\n",
        "            nn.PReLU(),\n",
        "            #nn.Dropout2d(0.25), #(1)drop out \n",
        "            nn.BatchNorm2d(16), #(5) Batch normalization\n",
        "            nn.Conv2d(16,32,3,padding=1),\n",
        "            nn.PReLU(),\n",
        "            #nn.Dropout2d(0.25),\n",
        "            nn.BatchNorm2d(32), \n",
        "            nn.MaxPool2d(2,2),\n",
        "            nn.Conv2d(32,64,3,padding=1),\n",
        "            nn.PReLU(),\n",
        "            nn.Dropout2d(0.5), \n",
        "            nn.BatchNorm2d(64), \n",
        "            nn.MaxPool2d(2,2)\n",
        "        )\n",
        "        self.fc_layer=nn.Sequential(\n",
        "            nn.Linear(64*8*8, 64*4*4),\n",
        "            nn.PReLU(),\n",
        "            nn.Dropout2d(0.5), \n",
        "            nn.BatchNorm1d(64*4*4),\n",
        "            nn.Linear(64*4*4, 64*2*2),\n",
        "            nn.PReLU(),\n",
        "            nn.Dropout2d(0.5),\n",
        "            nn.BatchNorm1d(64*2*2),\n",
        "            nn.Linear(64*2*2, 10),\n",
        "        )\n",
        "    # (3) weight initialization\n",
        "        for m in self.modules():\n",
        "            if isinstance(m,nn.Conv2d):\n",
        "                init.kaiming_normal_(m.weight.data) # RELU일 때\n",
        "                m.bias.data.fill_(0)\n",
        "            if isinstance(m,nn.Linear):\n",
        "                init.kaiming_normal_(m.weight.data)\n",
        "                m.bias.data.fill_(0)\n",
        "       \n",
        "    def forward(self,x):\n",
        "        out=self.layer(x)\n",
        "        out=out.view(batch_size,-1)\n",
        "        out=self.fc_layer(out)\n",
        "        \n",
        "        return out\n",
        "model=CNN().cuda()"
      ],
      "id": "strategic-domestic",
      "execution_count": 6,
      "outputs": []
    },
    {
      "cell_type": "code",
      "metadata": {
        "id": "initial-riverside",
        "colab": {
          "base_uri": "https://localhost:8080/",
          "height": 0
        },
        "outputId": "a6fc2c51-9786-4091-ee06-bac424da6d1a"
      },
      "source": [
        "# == 5. loss, optimizer ==\n",
        "loss_func=nn.CrossEntropyLoss()\n",
        "#optimizer=torch.optim.SGD(model.parameters(), lr=learning_rate)\n",
        "optimizer=torch.optim.Adam(model.parameters(),lr=learning_rate) #(6)Adam optimizer, 위에 주석\n",
        "\n",
        "# epoch를 1이 아닌 60,100 정도로 해야함(오래걸림)\n",
        "#num_epoch = 60\n",
        "schedule=lr_scheduler.StepLR(optimizer,step_size=10,gamma=0.1) #(7)learning rate decay\n",
        "\n",
        "model.train() \n",
        "'''\n",
        "학습 시키는 부분\n",
        "# == 6. 학습 ==\n",
        "for i in tqdm (range(num_epoch)):\n",
        "    print(\" %d 번째~\" %i)\n",
        "    for j,[image,label] in enumerate(train_loader):\n",
        "        #for j, [image, label] in tqdm(enumerate(train_loader)):\n",
        "       \n",
        "        x = Variable(image).cuda()\n",
        "        y_=Variable(label).cuda()\n",
        "        \n",
        "        optimizer.zero_grad()\n",
        "        output = model.forward(x)\n",
        "        loss=loss_func(output,y_)\n",
        "        loss.backward()\n",
        "        optimizer.step()\n",
        "        \n",
        "        if j%1000==0:\n",
        "           print(j,loss)\n",
        "'''\n",
        "model.eval()"
      ],
      "id": "initial-riverside",
      "execution_count": 7,
      "outputs": [
        {
          "output_type": "execute_result",
          "data": {
            "text/plain": [
              "CNN(\n",
              "  (layer): Sequential(\n",
              "    (0): Conv2d(3, 16, kernel_size=(3, 3), stride=(1, 1), padding=(1, 1))\n",
              "    (1): PReLU(num_parameters=1)\n",
              "    (2): BatchNorm2d(16, eps=1e-05, momentum=0.1, affine=True, track_running_stats=True)\n",
              "    (3): Conv2d(16, 32, kernel_size=(3, 3), stride=(1, 1), padding=(1, 1))\n",
              "    (4): PReLU(num_parameters=1)\n",
              "    (5): BatchNorm2d(32, eps=1e-05, momentum=0.1, affine=True, track_running_stats=True)\n",
              "    (6): MaxPool2d(kernel_size=2, stride=2, padding=0, dilation=1, ceil_mode=False)\n",
              "    (7): Conv2d(32, 64, kernel_size=(3, 3), stride=(1, 1), padding=(1, 1))\n",
              "    (8): PReLU(num_parameters=1)\n",
              "    (9): Dropout2d(p=0.5, inplace=False)\n",
              "    (10): BatchNorm2d(64, eps=1e-05, momentum=0.1, affine=True, track_running_stats=True)\n",
              "    (11): MaxPool2d(kernel_size=2, stride=2, padding=0, dilation=1, ceil_mode=False)\n",
              "  )\n",
              "  (fc_layer): Sequential(\n",
              "    (0): Linear(in_features=4096, out_features=1024, bias=True)\n",
              "    (1): PReLU(num_parameters=1)\n",
              "    (2): Dropout2d(p=0.5, inplace=False)\n",
              "    (3): BatchNorm1d(1024, eps=1e-05, momentum=0.1, affine=True, track_running_stats=True)\n",
              "    (4): Linear(in_features=1024, out_features=256, bias=True)\n",
              "    (5): PReLU(num_parameters=1)\n",
              "    (6): Dropout2d(p=0.5, inplace=False)\n",
              "    (7): BatchNorm1d(256, eps=1e-05, momentum=0.1, affine=True, track_running_stats=True)\n",
              "    (8): Linear(in_features=256, out_features=10, bias=True)\n",
              "  )\n",
              ")"
            ]
          },
          "metadata": {
            "tags": []
          },
          "execution_count": 7
        }
      ]
    },
    {
      "cell_type": "markdown",
      "metadata": {
        "id": "laughing-beginning"
      },
      "source": [
        "## 학습된 파라미터 불러오기"
      ],
      "id": "laughing-beginning"
    },
    {
      "cell_type": "code",
      "metadata": {
        "id": "FVY8t9I1t8Nk",
        "colab": {
          "base_uri": "https://localhost:8080/",
          "height": 0
        },
        "outputId": "62fbc434-0a5a-4196-871f-c4bdcbf1a6ef"
      },
      "source": [
        "netname = './gdrive/MyDrive/201810793_Model.pkl'\n",
        "model = torch.load(netname) #로드 가져오기\n",
        "ComputeAccr(test_loader,model)"
      ],
      "id": "FVY8t9I1t8Nk",
      "execution_count": 8,
      "outputs": [
        {
          "output_type": "stream",
          "text": [
            "/usr/local/lib/python3.7/dist-packages/ipykernel_launcher.py:6: UserWarning: volatile was removed and now has no effect. Use `with torch.no_grad():` instead.\n",
            "  \n"
          ],
          "name": "stderr"
        },
        {
          "output_type": "stream",
          "text": [
            "Accuracy of Test Data: 82.69999694824219\n"
          ],
          "name": "stdout"
        }
      ]
    }
  ]
}