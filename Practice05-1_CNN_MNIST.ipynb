{
 "cells": [
  {
   "cell_type": "markdown",
   "id": "79f220cc",
   "metadata": {},
   "source": [
    "# 심층학습 (Deep Learning)\n",
    "## 실습05 - 합성곱 신경망(1) 나만의 CNN 으로 MNIST 예측하기\n",
    "### 201810793 이연우"
   ]
  },
  {
   "cell_type": "markdown",
   "id": "5055f497",
   "metadata": {},
   "source": [
    "### GitHub\n",
    "https://github.com/Nunu-0/Deep-Learning"
   ]
  },
  {
   "cell_type": "markdown",
   "id": "3141f9ed",
   "metadata": {},
   "source": [
    "### Load packages"
   ]
  },
  {
   "cell_type": "code",
   "execution_count": 2,
   "id": "f8faaf83",
   "metadata": {},
   "outputs": [],
   "source": [
    "import torch\n",
    "import torch.nn as nn\n",
    "import torchvision.datasets as dset\n",
    "import torchvision.transforms as transforms\n",
    "from torch.utils.data import DataLoader\n",
    "from torch.autograd import Variable\n",
    "import matplotlib.pyplot as plt\n",
    "%matplotlib inline"
   ]
  },
  {
   "cell_type": "markdown",
   "id": "6e73b158",
   "metadata": {},
   "source": [
    "### MNIST train, test dataset 가져오기"
   ]
  },
  {
   "cell_type": "code",
   "execution_count": 3,
   "id": "d03b2e6d",
   "metadata": {},
   "outputs": [],
   "source": [
    "# \"\": 현재 폴더에 MNIST 있음\n",
    "mnist_train=dset.MNIST(\"\",train=True,transform=transforms.ToTensor(), \n",
    "                       target_transform=None, download=True) # Train용으로 쓰겠다.\n",
    "mnist_test=dset.MNIST(\"\",train=False, transform=transforms.ToTensor(),\n",
    "                      target_transform=None,download=True) #Test용으로 쓰겠다."
   ]
  },
  {
   "cell_type": "markdown",
   "id": "43edebfe",
   "metadata": {},
   "source": [
    "### 대략적인 데이터 형태"
   ]
  },
  {
   "cell_type": "code",
   "execution_count": 4,
   "id": "81945176",
   "metadata": {},
   "outputs": [
    {
     "name": "stdout",
     "output_type": "stream",
     "text": [
      "mnist_train 길이: 60000\n",
      "mnist_test 길이: 10000\n",
      "image data 형태: torch.Size([1, 28, 28])\n",
      "label:  5\n"
     ]
    },
    {
     "data": {
      "image/png": "[encoded data removed]",
      "text/plain": [
       "<Figure size 432x288 with 1 Axes>"
      ]
     },
     "metadata": {
      "needs_background": "light"
     },
     "output_type": "display_data"
    }
   ],
   "source": [
    "print \"mnist_train 길이:\", len(mnist_train)\n",
    "print \"mnist_test 길이:\", len(mnist_test)\n",
    "\n",
    "#데이터 하나 형태\n",
    "image, label=mnist_train.__getitem__(0) # 0번째 데이터\n",
    "print \"image data 형태:\", image.size()\n",
    "print \"label: \", label\n",
    "\n",
    "#그리기\n",
    "img=image.numpy() #image 타입을 numpy로 변환 (1,28,28)\n",
    "plt.title(\"label: %d\" %label)\n",
    "plt.imshow(img[0],cmap = 'gray')\n",
    "plt.show()"
   ]
  },
  {
   "cell_type": "markdown",
   "id": "60abce96",
   "metadata": {},
   "source": [
    "### MNIST data 띄워보기"
   ]
  },
  {
   "cell_type": "code",
   "execution_count": 5,
   "id": "5dac3884",
   "metadata": {},
   "outputs": [
    {
     "name": "stdout",
     "output_type": "stream",
     "text": [
      "5\n",
      "torch.Size([1, 28, 28])\n",
      "5\n"
     ]
    },
    {
     "data": {
      "image/png": "[encoded data removed]",
      "text/plain": [
       "<Figure size 432x288 with 1 Axes>"
      ]
     },
     "metadata": {
      "needs_background": "light"
     },
     "output_type": "display_data"
    },
    {
     "name": "stdout",
     "output_type": "stream",
     "text": [
      "0\n"
     ]
    },
    {
     "data": {
      "image/png": "[encoded data removed]",
      "text/plain": [
       "<Figure size 432x288 with 1 Axes>"
      ]
     },
     "metadata": {
      "needs_background": "light"
     },
     "output_type": "display_data"
    },
    {
     "name": "stdout",
     "output_type": "stream",
     "text": [
      "4\n"
     ]
    },
    {
     "data": {
      "image/png": "[encoded data removed]",
      "text/plain": [
       "<Figure size 432x288 with 1 Axes>"
      ]
     },
     "metadata": {
      "needs_background": "light"
     },
     "output_type": "display_data"
    }
   ],
   "source": [
    "print(mnist_train[0][1])  # label\n",
    "print(mnist_train[0][0].size())  # image\n",
    "\n",
    "for i in range(3): # 트레인 데이터 3개\n",
    "    img= mnist_train[i][0].numpy()\n",
    "    print(mnist_train[i][1])\n",
    "    plt.imshow(img[0], cmap='gray')\n",
    "    plt.show()"
   ]
  },
  {
   "cell_type": "markdown",
   "id": "fe1d0e70",
   "metadata": {},
   "source": [
    "### Convolution 하나 씌워보기"
   ]
  },
  {
   "cell_type": "code",
   "execution_count": 6,
   "id": "ad35414e",
   "metadata": {},
   "outputs": [
    {
     "name": "stdout",
     "output_type": "stream",
     "text": [
      "torch.Size([1, 1, 28, 28])\n",
      "5\n",
      "torch.Size([1, 3, 28, 28])\n"
     ]
    },
    {
     "data": {
      "image/png": "[encoded data removed]",
      "text/plain": [
       "<Figure size 432x288 with 1 Axes>"
      ]
     },
     "metadata": {
      "needs_background": "light"
     },
     "output_type": "display_data"
    },
    {
     "data": {
      "image/png": "[encoded data removed]",
      "text/plain": [
       "<Figure size 432x288 with 1 Axes>"
      ]
     },
     "metadata": {
      "needs_background": "light"
     },
     "output_type": "display_data"
    },
    {
     "data": {
      "image/png": "[encoded data removed]",
      "text/plain": [
       "<Figure size 432x288 with 1 Axes>"
      ]
     },
     "metadata": {
      "needs_background": "light"
     },
     "output_type": "display_data"
    }
   ],
   "source": [
    "# mnist 의 첫 번째 이미지, 라벨 가져오기\n",
    "image, label= mnist_train[0]\n",
    "# view : tensor 의 사이즈 조절. -1 : 해당 차원 확장시켜라\n",
    "# [1, 28, 28] -> [1, 1, 28, 28], [채널, h, w] -> [batch_size, 채널, h, w]\n",
    "image= image.view(-1, image.size()[0], image.size()[1], image.size()[2])\n",
    "print(image.size()) # [batch_size, 채널. h, w]\n",
    "\n",
    "print label\n",
    "\n",
    "# convolutional filter 정의\n",
    "conv_layer= nn.Conv2d(in_channels = 1, out_channels = 3, kernel_size = 3, padding = 1)\n",
    "# image에 filter 적용\n",
    "output= conv_layer(Variable(image))\n",
    "print(output.size())\n",
    "# (I - F + 2 * P) / S + 1\n",
    "    \n",
    "for i in range(3):\n",
    "    plt.imshow(output[0,i,:,:].data.numpy(), cmap= 'gray')\n",
    "    # default로 되어 있는 값으로 지정\n",
    "    plt.show()"
   ]
  },
  {
   "cell_type": "markdown",
   "id": "b142c354",
   "metadata": {},
   "source": [
    "## CNN 만들기\n",
    "### train, test data 가져오기"
   ]
  },
  {
   "cell_type": "code",
   "execution_count": 7,
   "id": "13943da5",
   "metadata": {},
   "outputs": [],
   "source": [
    "import numpy as np\n",
    "import torch.optim as optim\n",
    "\n",
    "batch_size= 16\n",
    "learning_rate= 0.0002\n",
    "num_epoch= 10 # 1000"
   ]
  },
  {
   "cell_type": "code",
   "execution_count": 8,
   "id": "1c80d792",
   "metadata": {},
   "outputs": [],
   "source": [
    "# 후에 학습시킬 때 batch_size 단위로 학습시켜나감\n",
    "train_loader= torch.utils.data.DataLoader(list(mnist_train)[:batch_size*100], batch_size= batch_size, #mnist_train을 train\n",
    "                                         shuffle= True, num_workers=2,\n",
    "                                         drop_last= True)  # batch_szie 만큼 나눌 때 나머지는 버려라\n",
    "test_loader= torch.utils.data.DataLoader((mnist_test), batch_size= batch_size,\n",
    "                                         shuffle= False, num_workers=2,\n",
    "                                         drop_last= True)"
   ]
  },
  {
   "cell_type": "markdown",
   "id": "db888cca",
   "metadata": {},
   "source": [
    "### CNN 클래스 만들기 (모델 만들기)"
   ]
  },
  {
   "cell_type": "code",
   "execution_count": 9,
   "id": "eda98ebc",
   "metadata": {},
   "outputs": [],
   "source": [
    "class CNN(nn.Module):  # nn.Module 상속받음\n",
    "    def __init__(self):\n",
    "        super(CNN, self).__init__()  # 28x28 (Picture Map 의 w, h)\n",
    "        self.layer= nn.Sequential( # 레이어들\n",
    "            nn.Conv2d(1, 16, 5, padding= 2), # input 채널, ouput 채널, 커널, padding\n",
    "            # (5 * 5 * 1) * 16 + 16 (학습시켜야 할 파라미터 개수)\n",
    "            nn.ReLU(),\n",
    "        \n",
    "            nn.Conv2d(16, 32, 5, padding= 2),  # 28x28\n",
    "            # (5 * 5 * 16) * 32 + 32 (학습시켜야 할 파라미터 개수)\n",
    "            nn.ReLU(),\n",
    "            nn.MaxPool2d(2,2),  # 28x28 -> 14x14 , 채널 수 는 안 바뀜\n",
    "        \n",
    "            nn.Conv2d(32, 64, 5, padding= 2),  # 14x14\n",
    "            # (5 * 5 * 32) * 64 + 64 (학습시켜야 할 파라미터 개수)\n",
    "            nn.ReLU(),\n",
    "            nn.MaxPool2d(2,2)  # 14x14 -> 7x7\n",
    "        )\n",
    "        self.fc_layer= nn.Sequential(\n",
    "            nn.Linear(64*7*7, 100),\n",
    "            # (64 * 7 * 7) * 100 + 100\n",
    "            nn.ReLU(),\n",
    "            nn.Linear(100, 10)\n",
    "            # (100 * 10) + 10\n",
    "        )\n",
    "        \n",
    "    def forward(self, x):\n",
    "        out= self.layer(x) \n",
    "        out= out.view(batch_size, -1) # 한 줄로 펴줌 (64 * 7 * 7 )\n",
    "        out= self.fc_layer(out)\n",
    "        return out\n",
    "    \n",
    "model= CNN()  #.cuda(), gpu 사용시"
   ]
  },
  {
   "cell_type": "code",
   "execution_count": 10,
   "id": "625d32cd",
   "metadata": {},
   "outputs": [
    {
     "name": "stdout",
     "output_type": "stream",
     "text": [
      "torch.Size([16, 1, 5, 5])\n",
      "torch.Size([16])\n",
      "torch.Size([32, 16, 5, 5])\n",
      "torch.Size([32])\n",
      "torch.Size([64, 32, 5, 5])\n",
      "torch.Size([64])\n",
      "torch.Size([100, 3136])\n",
      "torch.Size([100])\n",
      "torch.Size([10, 100])\n",
      "torch.Size([10])\n"
     ]
    }
   ],
   "source": [
    "# 파라미터 체크하기\n",
    "for parameter in model.parameters():\n",
    "    #print(parameter) # 파라미터 shape에 들어있는 커널의 실제 원소의 값(세타)\n",
    "    print(parameter.shape)"
   ]
  },
  {
   "cell_type": "code",
   "execution_count": 11,
   "id": "27285885",
   "metadata": {},
   "outputs": [],
   "source": [
    "# loss function, optimizer 선언\n",
    "loss_func= nn.CrossEntropyLoss()#분류\n",
    "optimizer= torch.optim.Adam(model.parameters(), lr= learning_rate)"
   ]
  },
  {
   "cell_type": "markdown",
   "id": "1345a19c",
   "metadata": {},
   "source": [
    "### Optimization"
   ]
  },
  {
   "cell_type": "code",
   "execution_count": 12,
   "id": "cb692fec",
   "metadata": {},
   "outputs": [
    {
     "name": "stdout",
     "output_type": "stream",
     "text": [
      "(tensor(2.3109, grad_fn=<NllLossBackward>), 0, 0)\n",
      "(tensor(2.1647, grad_fn=<NllLossBackward>), 50, 0)\n",
      "(tensor(0.8425, grad_fn=<NllLossBackward>), 0, 1)\n",
      "(tensor(0.2906, grad_fn=<NllLossBackward>), 50, 1)\n",
      "(tensor(0.6211, grad_fn=<NllLossBackward>), 0, 2)\n",
      "(tensor(0.1901, grad_fn=<NllLossBackward>), 50, 2)\n",
      "(tensor(0.4938, grad_fn=<NllLossBackward>), 0, 3)\n",
      "(tensor(0.2429, grad_fn=<NllLossBackward>), 50, 3)\n",
      "(tensor(0.2335, grad_fn=<NllLossBackward>), 0, 4)\n",
      "(tensor(0.0569, grad_fn=<NllLossBackward>), 50, 4)\n",
      "(tensor(0.1093, grad_fn=<NllLossBackward>), 0, 5)\n",
      "(tensor(0.2131, grad_fn=<NllLossBackward>), 50, 5)\n",
      "(tensor(0.1423, grad_fn=<NllLossBackward>), 0, 6)\n",
      "(tensor(0.3005, grad_fn=<NllLossBackward>), 50, 6)\n",
      "(tensor(0.0125, grad_fn=<NllLossBackward>), 0, 7)\n",
      "(tensor(0.0238, grad_fn=<NllLossBackward>), 50, 7)\n",
      "(tensor(0.0435, grad_fn=<NllLossBackward>), 0, 8)\n",
      "(tensor(0.0285, grad_fn=<NllLossBackward>), 50, 8)\n",
      "(tensor(0.0081, grad_fn=<NllLossBackward>), 0, 9)\n",
      "(tensor(0.0601, grad_fn=<NllLossBackward>), 50, 9)\n",
      "(tensor(0.0167, grad_fn=<NllLossBackward>), 0, 10)\n",
      "(tensor(0.0100, grad_fn=<NllLossBackward>), 50, 10)\n",
      "(tensor(0.0458, grad_fn=<NllLossBackward>), 0, 11)\n",
      "(tensor(0.0238, grad_fn=<NllLossBackward>), 50, 11)\n",
      "(tensor(0.0472, grad_fn=<NllLossBackward>), 0, 12)\n",
      "(tensor(0.0158, grad_fn=<NllLossBackward>), 50, 12)\n",
      "(tensor(0.0054, grad_fn=<NllLossBackward>), 0, 13)\n",
      "(tensor(0.0349, grad_fn=<NllLossBackward>), 50, 13)\n",
      "(tensor(0.0099, grad_fn=<NllLossBackward>), 0, 14)\n",
      "(tensor(0.0269, grad_fn=<NllLossBackward>), 50, 14)\n",
      "(tensor(0.0031, grad_fn=<NllLossBackward>), 0, 15)\n",
      "(tensor(0.0361, grad_fn=<NllLossBackward>), 50, 15)\n",
      "(tensor(0.0013, grad_fn=<NllLossBackward>), 0, 16)\n",
      "(tensor(0.0007, grad_fn=<NllLossBackward>), 50, 16)\n",
      "(tensor(0.0107, grad_fn=<NllLossBackward>), 0, 17)\n",
      "(tensor(0.0008, grad_fn=<NllLossBackward>), 50, 17)\n",
      "(tensor(0.0026, grad_fn=<NllLossBackward>), 0, 18)\n",
      "(tensor(0.0005, grad_fn=<NllLossBackward>), 50, 18)\n",
      "(tensor(0.0028, grad_fn=<NllLossBackward>), 0, 19)\n",
      "(tensor(8.0886e-05, grad_fn=<NllLossBackward>), 50, 19)\n",
      "(tensor(0.0002, grad_fn=<NllLossBackward>), 0, 20)\n",
      "(tensor(0.0005, grad_fn=<NllLossBackward>), 50, 20)\n",
      "(tensor(0.0014, grad_fn=<NllLossBackward>), 0, 21)\n",
      "(tensor(0.0002, grad_fn=<NllLossBackward>), 50, 21)\n",
      "(tensor(0.0017, grad_fn=<NllLossBackward>), 0, 22)\n",
      "(tensor(0.0015, grad_fn=<NllLossBackward>), 50, 22)\n",
      "(tensor(0.0023, grad_fn=<NllLossBackward>), 0, 23)\n",
      "(tensor(0.0016, grad_fn=<NllLossBackward>), 50, 23)\n",
      "(tensor(0.0001, grad_fn=<NllLossBackward>), 0, 24)\n",
      "(tensor(0.0001, grad_fn=<NllLossBackward>), 50, 24)\n",
      "(tensor(5.9296e-05, grad_fn=<NllLossBackward>), 0, 25)\n",
      "(tensor(0.0009, grad_fn=<NllLossBackward>), 50, 25)\n",
      "(tensor(0.0002, grad_fn=<NllLossBackward>), 0, 26)\n",
      "(tensor(0.0016, grad_fn=<NllLossBackward>), 50, 26)\n",
      "(tensor(1.8222e-05, grad_fn=<NllLossBackward>), 0, 27)\n",
      "(tensor(0.0003, grad_fn=<NllLossBackward>), 50, 27)\n",
      "(tensor(0.0003, grad_fn=<NllLossBackward>), 0, 28)\n",
      "(tensor(5.5552e-05, grad_fn=<NllLossBackward>), 50, 28)\n",
      "(tensor(0.0001, grad_fn=<NllLossBackward>), 0, 29)\n",
      "(tensor(0.0011, grad_fn=<NllLossBackward>), 50, 29)\n",
      "(tensor(5.6058e-05, grad_fn=<NllLossBackward>), 0, 30)\n",
      "(tensor(3.9562e-06, grad_fn=<NllLossBackward>), 50, 30)\n",
      "(tensor(0.0001, grad_fn=<NllLossBackward>), 0, 31)\n",
      "(tensor(2.9434e-05, grad_fn=<NllLossBackward>), 50, 31)\n",
      "(tensor(0.0005, grad_fn=<NllLossBackward>), 0, 32)\n",
      "(tensor(5.6617e-05, grad_fn=<NllLossBackward>), 50, 32)\n",
      "(tensor(0.0003, grad_fn=<NllLossBackward>), 0, 33)\n",
      "(tensor(5.9012e-05, grad_fn=<NllLossBackward>), 50, 33)\n",
      "(tensor(4.7761e-05, grad_fn=<NllLossBackward>), 0, 34)\n",
      "(tensor(7.1319e-05, grad_fn=<NllLossBackward>), 50, 34)\n",
      "(tensor(0.0007, grad_fn=<NllLossBackward>), 0, 35)\n",
      "(tensor(7.0412e-05, grad_fn=<NllLossBackward>), 50, 35)\n",
      "(tensor(0.0003, grad_fn=<NllLossBackward>), 0, 36)\n",
      "(tensor(0.0002, grad_fn=<NllLossBackward>), 50, 36)\n",
      "(tensor(0.0004, grad_fn=<NllLossBackward>), 0, 37)\n",
      "(tensor(1.6263e-05, grad_fn=<NllLossBackward>), 50, 37)\n",
      "(tensor(0.0005, grad_fn=<NllLossBackward>), 0, 38)\n",
      "(tensor(3.1882e-05, grad_fn=<NllLossBackward>), 50, 38)\n",
      "(tensor(0.0002, grad_fn=<NllLossBackward>), 0, 39)\n",
      "(tensor(1.1972e-05, grad_fn=<NllLossBackward>), 50, 39)\n",
      "(tensor(3.5561e-05, grad_fn=<NllLossBackward>), 0, 40)\n",
      "(tensor(6.0051e-06, grad_fn=<NllLossBackward>), 50, 40)\n",
      "(tensor(0.0002, grad_fn=<NllLossBackward>), 0, 41)\n",
      "(tensor(4.1615e-05, grad_fn=<NllLossBackward>), 50, 41)\n",
      "(tensor(3.1087e-05, grad_fn=<NllLossBackward>), 0, 42)\n",
      "(tensor(1.0616e-05, grad_fn=<NllLossBackward>), 50, 42)\n",
      "(tensor(0.0001, grad_fn=<NllLossBackward>), 0, 43)\n",
      "(tensor(0.0001, grad_fn=<NllLossBackward>), 50, 43)\n",
      "(tensor(0.0003, grad_fn=<NllLossBackward>), 0, 44)\n",
      "(tensor(0.0004, grad_fn=<NllLossBackward>), 50, 44)\n",
      "(tensor(1.8810e-05, grad_fn=<NllLossBackward>), 0, 45)\n",
      "(tensor(0.0001, grad_fn=<NllLossBackward>), 50, 45)\n",
      "(tensor(0.0002, grad_fn=<NllLossBackward>), 0, 46)\n",
      "(tensor(9.0444e-06, grad_fn=<NllLossBackward>), 50, 46)\n",
      "(tensor(2.5739e-05, grad_fn=<NllLossBackward>), 0, 47)\n",
      "(tensor(5.3920e-05, grad_fn=<NllLossBackward>), 50, 47)\n",
      "(tensor(0.0002, grad_fn=<NllLossBackward>), 0, 48)\n",
      "(tensor(2.7833e-05, grad_fn=<NllLossBackward>), 50, 48)\n",
      "(tensor(6.1790e-05, grad_fn=<NllLossBackward>), 0, 49)\n",
      "(tensor(2.6747e-06, grad_fn=<NllLossBackward>), 50, 49)\n",
      "(tensor(0.0002, grad_fn=<NllLossBackward>), 0, 50)\n",
      "(tensor(8.0018e-05, grad_fn=<NllLossBackward>), 50, 50)\n",
      "(tensor(3.0145e-05, grad_fn=<NllLossBackward>), 0, 51)\n",
      "(tensor(0.0002, grad_fn=<NllLossBackward>), 50, 51)\n",
      "(tensor(0.0002, grad_fn=<NllLossBackward>), 0, 52)\n",
      "(tensor(2.3213e-05, grad_fn=<NllLossBackward>), 50, 52)\n",
      "(tensor(3.8621e-05, grad_fn=<NllLossBackward>), 0, 53)\n",
      "(tensor(3.5091e-06, grad_fn=<NllLossBackward>), 50, 53)\n",
      "(tensor(1.5274e-06, grad_fn=<NllLossBackward>), 0, 54)\n",
      "(tensor(0.0001, grad_fn=<NllLossBackward>), 50, 54)\n",
      "(tensor(4.7906e-06, grad_fn=<NllLossBackward>), 0, 55)\n",
      "(tensor(1.5340e-05, grad_fn=<NllLossBackward>), 50, 55)\n",
      "(tensor(9.9908e-06, grad_fn=<NllLossBackward>), 0, 56)\n",
      "(tensor(7.6484e-05, grad_fn=<NllLossBackward>), 50, 56)\n",
      "(tensor(7.7588e-05, grad_fn=<NllLossBackward>), 0, 57)\n",
      "(tensor(5.8858e-06, grad_fn=<NllLossBackward>), 50, 57)\n",
      "(tensor(4.8651e-06, grad_fn=<NllLossBackward>), 0, 58)\n",
      "(tensor(2.0360e-05, grad_fn=<NllLossBackward>), 50, 58)\n",
      "(tensor(1.4774e-05, grad_fn=<NllLossBackward>), 0, 59)\n",
      "(tensor(3.4524e-05, grad_fn=<NllLossBackward>), 50, 59)\n",
      "(tensor(1.9937e-05, grad_fn=<NllLossBackward>), 0, 60)\n",
      "(tensor(5.3230e-05, grad_fn=<NllLossBackward>), 50, 60)\n",
      "(tensor(2.1314e-05, grad_fn=<NllLossBackward>), 0, 61)\n",
      "(tensor(5.6612e-05, grad_fn=<NllLossBackward>), 50, 61)\n",
      "(tensor(6.6307e-06, grad_fn=<NllLossBackward>), 0, 62)\n",
      "(tensor(1.1041e-05, grad_fn=<NllLossBackward>), 50, 62)\n",
      "(tensor(1.6591e-05, grad_fn=<NllLossBackward>), 0, 63)\n",
      "(tensor(1.4140e-05, grad_fn=<NllLossBackward>), 50, 63)\n",
      "(tensor(3.0798e-05, grad_fn=<NllLossBackward>), 0, 64)\n",
      "(tensor(4.8279e-06, grad_fn=<NllLossBackward>), 50, 64)\n",
      "(tensor(9.2295e-05, grad_fn=<NllLossBackward>), 0, 65)\n",
      "(tensor(2.8908e-06, grad_fn=<NllLossBackward>), 50, 65)\n",
      "(tensor(3.4202e-05, grad_fn=<NllLossBackward>), 0, 66)\n",
      "(tensor(2.0489e-06, grad_fn=<NllLossBackward>), 50, 66)\n",
      "(tensor(2.2499e-05, grad_fn=<NllLossBackward>), 0, 67)\n",
      "(tensor(4.7428e-05, grad_fn=<NllLossBackward>), 50, 67)\n",
      "(tensor(1.0408e-05, grad_fn=<NllLossBackward>), 0, 68)\n",
      "(tensor(4.5172e-05, grad_fn=<NllLossBackward>), 50, 68)\n",
      "(tensor(9.6905e-05, grad_fn=<NllLossBackward>), 0, 69)\n",
      "(tensor(7.4207e-06, grad_fn=<NllLossBackward>), 50, 69)\n",
      "(tensor(1.0639e-05, grad_fn=<NllLossBackward>), 0, 70)\n",
      "(tensor(3.3971e-05, grad_fn=<NllLossBackward>), 50, 70)\n",
      "(tensor(3.5864e-05, grad_fn=<NllLossBackward>), 0, 71)\n",
      "(tensor(2.2202e-05, grad_fn=<NllLossBackward>), 50, 71)\n",
      "(tensor(1.3522e-05, grad_fn=<NllLossBackward>), 0, 72)\n",
      "(tensor(5.8635e-06, grad_fn=<NllLossBackward>), 50, 72)\n",
      "(tensor(1.2441e-05, grad_fn=<NllLossBackward>), 0, 73)\n",
      "(tensor(4.4330e-05, grad_fn=<NllLossBackward>), 50, 73)\n",
      "(tensor(5.1110e-06, grad_fn=<NllLossBackward>), 0, 74)\n",
      "(tensor(7.7705e-06, grad_fn=<NllLossBackward>), 50, 74)\n",
      "(tensor(5.8999e-05, grad_fn=<NllLossBackward>), 0, 75)\n",
      "(tensor(1.5392e-05, grad_fn=<NllLossBackward>), 50, 75)\n",
      "(tensor(7.0704e-06, grad_fn=<NllLossBackward>), 0, 76)\n",
      "(tensor(1.8259e-05, grad_fn=<NllLossBackward>), 50, 76)\n",
      "(tensor(2.4002e-05, grad_fn=<NllLossBackward>), 0, 77)\n",
      "(tensor(1.4140e-05, grad_fn=<NllLossBackward>), 50, 77)\n",
      "(tensor(1.3784e-06, grad_fn=<NllLossBackward>), 0, 78)\n",
      "(tensor(4.1723e-07, grad_fn=<NllLossBackward>), 50, 78)\n",
      "(tensor(4.3213e-07, grad_fn=<NllLossBackward>), 0, 79)\n",
      "(tensor(2.1575e-05, grad_fn=<NllLossBackward>), 50, 79)\n",
      "(tensor(4.5448e-07, grad_fn=<NllLossBackward>), 0, 80)\n",
      "(tensor(1.4655e-05, grad_fn=<NllLossBackward>), 50, 80)\n",
      "(tensor(1.2166e-05, grad_fn=<NllLossBackward>), 0, 81)\n",
      "(tensor(6.4743e-06, grad_fn=<NllLossBackward>), 50, 81)\n",
      "(tensor(2.0340e-06, grad_fn=<NllLossBackward>), 0, 82)\n",
      "(tensor(4.7161e-06, grad_fn=<NllLossBackward>), 50, 82)\n",
      "(tensor(6.6605e-06, grad_fn=<NllLossBackward>), 0, 83)\n",
      "(tensor(3.0547e-07, grad_fn=<NllLossBackward>), 50, 83)\n",
      "(tensor(3.9928e-05, grad_fn=<NllLossBackward>), 0, 84)\n",
      "(tensor(3.2398e-05, grad_fn=<NllLossBackward>), 50, 84)\n",
      "(tensor(1.4810e-05, grad_fn=<NllLossBackward>), 0, 85)\n",
      "(tensor(1.7463e-05, grad_fn=<NllLossBackward>), 50, 85)\n",
      "(tensor(8.1357e-06, grad_fn=<NllLossBackward>), 0, 86)\n",
      "(tensor(4.9693e-06, grad_fn=<NllLossBackward>), 50, 86)\n",
      "(tensor(2.8163e-06, grad_fn=<NllLossBackward>), 0, 87)\n",
      "(tensor(3.2410e-06, grad_fn=<NllLossBackward>), 50, 87)\n",
      "(tensor(1.8059e-05, grad_fn=<NllLossBackward>), 0, 88)\n",
      "(tensor(6.9361e-06, grad_fn=<NllLossBackward>), 50, 88)\n",
      "(tensor(4.4032e-06, grad_fn=<NllLossBackward>), 0, 89)\n",
      "(tensor(3.3080e-06, grad_fn=<NllLossBackward>), 50, 89)\n",
      "(tensor(7.8230e-06, grad_fn=<NllLossBackward>), 0, 90)\n",
      "(tensor(5.7815e-06, grad_fn=<NllLossBackward>), 50, 90)\n",
      "(tensor(2.7790e-06, grad_fn=<NllLossBackward>), 0, 91)\n",
      "(tensor(5.2004e-06, grad_fn=<NllLossBackward>), 50, 91)\n",
      "(tensor(3.9488e-07, grad_fn=<NllLossBackward>), 0, 92)\n",
      "(tensor(5.2227e-06, grad_fn=<NllLossBackward>), 50, 92)\n",
      "(tensor(1.1883e-05, grad_fn=<NllLossBackward>), 0, 93)\n",
      "(tensor(1.4215e-05, grad_fn=<NllLossBackward>), 50, 93)\n",
      "(tensor(7.7038e-06, grad_fn=<NllLossBackward>), 0, 94)\n",
      "(tensor(1.4230e-06, grad_fn=<NllLossBackward>), 50, 94)\n",
      "(tensor(6.0944e-06, grad_fn=<NllLossBackward>), 0, 95)\n",
      "(tensor(4.0829e-06, grad_fn=<NllLossBackward>), 50, 95)\n",
      "(tensor(1.6019e-06, grad_fn=<NllLossBackward>), 0, 96)\n",
      "(tensor(1.2442e-06, grad_fn=<NllLossBackward>), 50, 96)\n",
      "(tensor(6.6307e-06, grad_fn=<NllLossBackward>), 0, 97)\n",
      "(tensor(1.2219e-06, grad_fn=<NllLossBackward>), 50, 97)\n",
      "(tensor(1.3411e-06, grad_fn=<NllLossBackward>), 0, 98)\n",
      "(tensor(6.4446e-06, grad_fn=<NllLossBackward>), 50, 98)\n",
      "(tensor(3.6656e-06, grad_fn=<NllLossBackward>), 0, 99)\n",
      "(tensor(7.7332e-06, grad_fn=<NllLossBackward>), 50, 99)\n"
     ]
    }
   ],
   "source": [
    "for i in range(num_epoch):\n",
    "    for j, [image, label] in enumerate(train_loader): # batch_size 만큼\n",
    "        x= Variable(image) # .cuda()\n",
    "        y_= Variable(label) # .cuda()\n",
    "        \n",
    "        optimizer.zero_grad() # optimizer 안에서 이전 gradient 들을 초기화\n",
    "        output= model.forward(x)\n",
    "        loss= loss_func(output, y_) # (예측값, 정답)\n",
    "        loss.backward() # gradient 계산\n",
    "        optimizer.step() # parameter 업데이트\n",
    "        \n",
    "        if j%50==0:\n",
    "            print(loss, j, i)"
   ]
  },
  {
   "cell_type": "code",
   "execution_count": 13,
   "id": "279663e8",
   "metadata": {},
   "outputs": [
    {
     "name": "stderr",
     "output_type": "stream",
     "text": [
      "/home/ec2-user/anaconda3/envs/pytorch_p27/lib/python2.7/site-packages/torch/serialization.py:360: UserWarning: Couldn't retrieve source code for container of type CNN. It won't be checked for correctness upon loading.\n",
      "  \"type \" + obj.__name__ + \". It won't be checked \"\n"
     ]
    }
   ],
   "source": [
    "# 모델 저장시키기\n",
    "torch.save(model, 'nets/mycnn_model_%d.pkl'%(num_epoch))"
   ]
  },
  {
   "cell_type": "code",
   "execution_count": 14,
   "id": "0d905625",
   "metadata": {},
   "outputs": [
    {
     "name": "stdout",
     "output_type": "stream",
     "text": [
      "model not restored\n"
     ]
    }
   ],
   "source": [
    "try:\n",
    "    # 미리 학습시킨 네트워크의 파라미터 집합 [피클]이라 발음함.\n",
    "    model=torch.load('nets/mycnn_model_10.pkl')\n",
    "    print(\"model restored\")\n",
    "except:\n",
    "    print(\"model not restored\")"
   ]
  },
  {
   "cell_type": "code",
   "execution_count": 15,
   "id": "06d9aca7",
   "metadata": {},
   "outputs": [],
   "source": [
    "def ComputeAccr(dloader, imodel):\n",
    "    correct= 0\n",
    "    total= 0\n",
    "    \n",
    "    for j, [imgs, labels] in enumerate(dloader):  #batch_size 만큼\n",
    "        img= Variable(imgs)  # .cuda() # x\n",
    "        label= Variable(labels)  # y\n",
    "        #label= Variable(labels).cuda()\n",
    "        \n",
    "        output= imodel.forward(img)  # forward prop.\n",
    "        _, output_index= torch.max(output, 1)\n",
    "        \n",
    "        total += label.size(0)\n",
    "        correct += (output_index == label).sum().float()\n",
    "    print(\"Accuracy of Test Data: {}\".format(100*correct/total))"
   ]
  },
  {
   "cell_type": "code",
   "execution_count": 16,
   "id": "75298b5f",
   "metadata": {},
   "outputs": [
    {
     "name": "stdout",
     "output_type": "stream",
     "text": [
      "Accuracy of Test Data: 95.4199981689\n"
     ]
    }
   ],
   "source": [
    "ComputeAccr(test_loader, model)"
   ]
  },
  {
   "cell_type": "code",
   "execution_count": null,
   "id": "5ae72647",
   "metadata": {},
   "outputs": [],
   "source": []
  }
 ],
 "metadata": {
  "kernelspec": {
   "display_name": "conda_pytorch_p27",
   "language": "python",
   "name": "conda_pytorch_p27"
  },
  "language_info": {
   "codemirror_mode": {
    "name": "ipython",
    "version": 2
   },
   "file_extension": ".py",
   "mimetype": "text/x-python",
   "name": "python",
   "nbconvert_exporter": "python",
   "pygments_lexer": "ipython2",
   "version": "2.7.16"
  }
 },
 "nbformat": 4,
 "nbformat_minor": 5
}
