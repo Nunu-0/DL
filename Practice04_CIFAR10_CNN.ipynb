{
 "cells": [
  {
   "cell_type": "markdown",
   "id": "searching-defeat",
   "metadata": {
    "id": "infectious-shock"
   },
   "source": [
    "# 심층학습 (Deep Learning)\n",
    "## 실습04 심층신경망 훈련 - CIFAR10을 CNN으로 학습\n",
    "### 201810793 이연우"
   ]
  },
  {
   "cell_type": "markdown",
   "id": "convenient-black",
   "metadata": {
    "id": "acquired-petersburg"
   },
   "source": [
    "### CIFAR10을 CNN 으로 학습하기. 여러 학습 방법으로 비교"
   ]
  },
  {
   "cell_type": "code",
   "execution_count": 25,
   "id": "earned-isaac",
   "metadata": {
    "id": "touched-novel"
   },
   "outputs": [],
   "source": [
    "import numpy as np\n",
    "import torch\n",
    "import torch.nn as nn\n",
    "import torch.optim as optim\n",
    "import torch.nn.init as init\n",
    "import torchvision.datasets as dset\n",
    "import torchvision.transforms as transforms\n",
    "from torch.utils.data import DataLoader\n",
    "from torch.autograd import Variable\n",
    "import matplotlib.pyplot as plt\n",
    "\n",
    "#learning rate decay\n",
    "from torch.optim import lr_scheduler\n",
    "\n",
    "batch_size = 16\n",
    "learning_rate = 0.002\n",
    "num_epoch = 1 # 100번이상 해야지 제대로 학습됨, 어느정도 효과있는지 확인을 위해 1만"
   ]
  },
  {
   "cell_type": "markdown",
   "id": "intimate-shore",
   "metadata": {
    "id": "empty-collins"
   },
   "source": [
    "### 1. CIFAR 10 train, test dataset 가져오기 (163 MB)\n",
    "MNIST : 11MB"
   ]
  },
  {
   "cell_type": "code",
   "execution_count": 32,
   "id": "proprietary-adolescent",
   "metadata": {
    "colab": {
     "base_uri": "https://localhost:8080/",
     "height": 196
    },
    "id": "august-caution",
    "outputId": "fb686d12-ca3e-42f8-aeb5-af7dfdc82446"
   },
   "outputs": [
    {
     "name": "stdout",
     "output_type": "stream",
     "text": [
      "Files already downloaded and verified\n",
      "Files already downloaded and verified\n"
     ]
    },
    {
     "data": {
      "text/plain": [
       "'\\n# \\xeb\\xa7\\xa8 \\xec\\x9c\\x84\\xec\\x9d\\x98 \\xeb\\x91\\x90 \\xec\\xa4\\x84 \\xec\\xa3\\xbc\\xec\\x84\\x9d\\n# train\\xed\\x95\\xa0 \\xeb\\x95\\x8c\\xeb\\x8f\\x84 test\\xed\\x95\\xa0\\xeb\\x95\\x8c\\xeb\\x8f\\x84 Data Normalization\\xec\\x9d\\x84 \\xed\\x95\\x9c\\xeb\\x8b\\xa4.\\ncifar_train=dset.CIFAR10(\"CIFAR10/\",train=True,\\n                        transform=transforms.Compose([\\n                            transforms.ToTensor(),\\n                            transforms.Normalize(mean=(0.5,0.5,0.5),std=(0.5,0.5,0.5)),\\n                            ])\\n                         ,target_transform=None,download=False)\\ncifar_test=dset.CIFAR10(\"CIFAR10/\",train=False,\\n                        transform=transforms.Compose([\\n                            transforms.ToTensor(),\\n                            transforms.Normalize(mean=(0.5,0.5,0.5),std=(0.5,0.5,0.5)),\\n                        ])\\n                         ,target_transform=None,download=False)\\n'"
      ]
     },
     "execution_count": 32,
     "metadata": {},
     "output_type": "execute_result"
    }
   ],
   "source": [
    "cifar_train = dset.CIFAR10(\"CIFAR10/\",train = True, transform = transforms.ToTensor(), target_transform = None, download = True)\n",
    "cifar_test = dset.CIFAR10(\"CIFAR10/\",train = False, transform = transforms.ToTensor(), target_transform = None, download = True)\n",
    "\n",
    "#(2) Data augmentation\n",
    "'''\n",
    "# 위의 두 줄 주석\n",
    "# train 데이터 set을 불리는 효과, test 데이터셋에서는 하지 않는다.\n",
    "cifar_train=dset.CIFAR10(\"CIFAR10/\",train=True, \n",
    "                        transform=transforms.Compose([\n",
    "                            transforms.Scale(36), # 36만큼 키운다음\n",
    "                            transforms.CenterCrop(32), # 32만큼 크롭\n",
    "                            transforms.RandomHorizontalFlip(), # 수평, 가로 방향으로 반전\n",
    "                            transforms.Lambda(lambda x: x.rotate(90)), # 90도 회전\n",
    "                            transforms.ToTensor()]))\n",
    "                            # 투투렌스폼을 포함해서 위와 같은것들을 해달라\n",
    "                            # 로딩할때마다 위를 적절히 섞어서 Data augmentation을 해줌\n",
    "cifar_test = dset.CIFAR10(\"CIFAR10/\",train = False, transform = transforms.ToTensor(), target_transform = None, download = True)\n",
    "'''\n",
    "#(4) Data Normalization\n",
    "'''\n",
    "# 맨 위의 두 줄 주석\n",
    "# train할 때도 test할때도 Data Normalization을 한다.\n",
    "cifar_train=dset.CIFAR10(\"CIFAR10/\",train=True,\n",
    "                        transform=transforms.Compose([\n",
    "                            transforms.ToTensor(),\n",
    "                            transforms.Normalize(mean=(0.5,0.5,0.5),std=(0.5,0.5,0.5)),\n",
    "                            ])\n",
    "                         ,target_transform=None,download=False)\n",
    "cifar_test=dset.CIFAR10(\"CIFAR10/\",train=False,\n",
    "                        transform=transforms.Compose([\n",
    "                            transforms.ToTensor(),\n",
    "                            transforms.Normalize(mean=(0.5,0.5,0.5),std=(0.5,0.5,0.5)),\n",
    "                        ])\n",
    "                         ,target_transform=None,download=False)\n",
    "'''"
   ]
  },
  {
   "cell_type": "markdown",
   "id": "occupied-rough",
   "metadata": {
    "id": "composed-entrance"
   },
   "source": [
    "### 2. 대략적인 데이터 형태"
   ]
  },
  {
   "cell_type": "code",
   "execution_count": 33,
   "id": "bigger-excuse",
   "metadata": {
    "colab": {
     "base_uri": "https://localhost:8080/",
     "height": 371
    },
    "id": "continuous-operator",
    "outputId": "7994cdd2-3edf-4f71-e8e7-350b4811ea82",
    "scrolled": true
   },
   "outputs": [
    {
     "name": "stdout",
     "output_type": "stream",
     "text": [
      "('cifar_train \\xea\\xb8\\xb8\\xec\\x9d\\xb4:', 50000)\n",
      "('cifar_test \\xea\\xb8\\xb8\\xec\\x9d\\xb4:', 10000)\n",
      "('image data \\xed\\x98\\x95\\xed\\x83\\x9c: ', torch.Size([3, 32, 32]))\n",
      "('label: ', 0)\n"
     ]
    },
    {
     "data": {
      "text/plain": [
       "<function matplotlib.pyplot.show>"
      ]
     },
     "execution_count": 33,
     "metadata": {},
     "output_type": "execute_result"
    },
    {
     "data": {
      "image/png": "[encoded data removed]",
      "text/plain": [
       "<Figure size 432x288 with 1 Axes>"
      ]
     },
     "metadata": {
      "needs_background": "light"
     },
     "output_type": "display_data"
    }
   ],
   "source": [
    "print (\"cifar_train 길이:\",len(cifar_train))\n",
    "print (\"cifar_test 길이:\",len(cifar_test))\n",
    "\n",
    "# 데이터 하나 형태\n",
    "image, label = cifar_train.__getitem__(30) #30번째 데이터\n",
    "print (\"image data 형태: \",image.size()) # [채널수, W, H], RGB = 3채널)\n",
    "print (\"label: \", label)\n",
    "\n",
    "#그리기\n",
    "img=image.numpy() #image 타입을 numpy로 변환(3, 32, 32)\n",
    "\n",
    "#(3,32,32)->(32,32,3) # 채널을 뒤로 옮겨야함\n",
    "r,g,b=img[0,:,:],img[1,:,:],img[2,:,:]\n",
    "\n",
    "#img=img.reshape(img.shape[1],img.shape[2],img.shape[0])\n",
    "img2=np.zeros((img.shape[1],img.shape[2],img.shape[0]))\n",
    "img2[:,:,0],img2[:,:,1],img2[:,:,2]=r,g,b\n",
    "\n",
    "plt.title(\"label: %d\" %label)\n",
    "plt.imshow(img2,interpolation='bicubic')\n",
    "plt.show"
   ]
  },
  {
   "cell_type": "code",
   "execution_count": 34,
   "id": "smaller-criticism",
   "metadata": {
    "id": "approximate-report"
   },
   "outputs": [],
   "source": [
    "def ComputeAccr(dloader, imodel):\n",
    "    correct=0\n",
    "    total=0\n",
    "    \n",
    "    for j, [imgs,labels] in enumerate(dloader): #batch_size 만큼\n",
    "        img=Variable(imgs,volatile=True)#.cuda() #x\n",
    "        #label=Variable(labels) #y\n",
    "        label=Variable(labels)#.cuda()\n",
    "        #.cuda(): GPU에 로드되기 위함, 만약 CPU로 설정되어 있다면 에러남\n",
    "        \n",
    "        output=imodel.forward(img)#forward prop.\n",
    "        _, output_index=torch.max(output,1)\n",
    "        \n",
    "        total+=label.size(0)\n",
    "        correct+=(output_index==label).sum().float()\n",
    "    print(\"Accuracy of Test Data: {}\".format(100*correct/total))"
   ]
  },
  {
   "cell_type": "code",
   "execution_count": 35,
   "id": "scientific-champion",
   "metadata": {
    "id": "strategic-domestic"
   },
   "outputs": [],
   "source": [
    "# == 3.데이터 로드함수 ==\n",
    "train_loader=torch.utils.data.DataLoader(list(cifar_train)[:],batch_size=batch_size,shuffle=True,num_workers=2,drop_last=True)\n",
    "test_loader=torch.utils.data.DataLoader(cifar_test,batch_size=batch_size,shuffle=False,num_workers=2,drop_last=True)\n",
    "\n",
    "# == 4.모델 선언 ==\n",
    "class CNN(nn.Module): # week7 기준 배우지 않았으니 보기만\n",
    "    def __init__(self):\n",
    "        super(CNN,self).__init__()\n",
    "        self.layer=nn.Sequential(\n",
    "            nn.Conv2d(3,16,3,padding=1),\n",
    "            nn.ReLU(),\n",
    "            #nn.Dropout2d(0.2), #(1)drop out \n",
    "            ##nn.BatchNorm2d(16), #(5) Batch normalization\n",
    "            nn.Conv2d(16,32,3,padding=1),\n",
    "            nn.ReLU(),\n",
    "            #nn.Dropout2d(0.2),\n",
    "            ##nn.BatchNorm2d(32), \n",
    "            nn.MaxPool2d(2,2),\n",
    "            nn.Conv2d(32,64,3,padding=1),\n",
    "            nn.ReLU(),\n",
    "            #nn.Dropout2d(0.2), \n",
    "            ##nn.BatchNorm2d(64), \n",
    "            nn.MaxPool2d(2,2)\n",
    "        )\n",
    "        self.fc_layer=nn.Sequential(\n",
    "            nn.Linear(64*8*8,100),\n",
    "            nn.ReLU(),\n",
    "            #nn.Dropout2d(0.2), \n",
    "            ##nn.BatchNorm1d(100),\n",
    "            nn.Linear(100,10)\n",
    "        )\n",
    "    # (3) weight initialization\n",
    "    '''\n",
    "        for m in self.modules():\n",
    "            if isinstance(m,nn.Conv2d):\n",
    "                init.kaiming_normal(m.weight.data) # RELU일 때\n",
    "                m.bias.data.fill_(0)\n",
    "            if isinstance(m,nn.Linear):\n",
    "                init.kaiming_normal(m.weight.data)\n",
    "                m.bias.data.fill_(0)\n",
    "   '''\n",
    "    \n",
    "    def forward(self,x):\n",
    "        out=self.layer(x)\n",
    "        out=out.view(batch_size,-1)\n",
    "        out=self.fc_layer(out)\n",
    "        \n",
    "        return out\n",
    "model=CNN()#.cuda()"
   ]
  },
  {
   "cell_type": "code",
   "execution_count": 36,
   "id": "simplified-leave",
   "metadata": {
    "colab": {
     "base_uri": "https://localhost:8080/"
    },
    "id": "initial-riverside",
    "outputId": "ac1ec97f-5698-4185-8ca3-1a20265c6e83"
   },
   "outputs": [
    {
     "name": "stdout",
     "output_type": "stream",
     "text": [
      "(0, tensor(2.3150, grad_fn=<NllLossBackward>))\n",
      "(1000, tensor(2.3031, grad_fn=<NllLossBackward>))\n",
      "(2000, tensor(2.3028, grad_fn=<NllLossBackward>))\n",
      "(3000, tensor(2.3006, grad_fn=<NllLossBackward>))\n"
     ]
    }
   ],
   "source": [
    "# == 5. loss, optimizer ==\n",
    "loss_func=nn.CrossEntropyLoss()\n",
    "optimizer=torch.optim.SGD(model.parameters(), lr=learning_rate)\n",
    "# optimizer=torch.optim.Adam(model.parameters(),lr=learning_rate) #(6)Adam optimizer, 위에 주석\n",
    "\n",
    "# epoch를 1이 아닌 60,100 정도로 해야함(오래걸림)\n",
    "#num_epoch = 100\n",
    "#schedule=lr_scheduler.StepLR(optimizer,step_size=20,gamma=0.2) #(7)learning rate decay \n",
    "\n",
    "# == 6. 학습 ==\n",
    "for i in range(num_epoch):\n",
    "    for j,[image,label] in enumerate(train_loader):\n",
    "        x = Variable(image)#.cuda()\n",
    "        y_=Variable(label)#.cuda()\n",
    "        \n",
    "        optimizer.zero_grad()\n",
    "        output = model.forward(x)\n",
    "        loss=loss_func(output,y_)\n",
    "        loss.backward()\n",
    "        optimizer.step()\n",
    "        \n",
    "        if j%1000==0:\n",
    "            print(j,loss)"
   ]
  },
  {
   "cell_type": "markdown",
   "id": "weird-rwanda",
   "metadata": {
    "id": "impossible-rainbow"
   },
   "source": [
    "## 과대적합을 피하기 위한 기법들\n",
    "#### 각각의 기법 모델 선언 후 바꾼 코드를 다시 원상 복귀 하고 다른 기법을 실험하기를 권장\n",
    "\n",
    "### (0) Naive Test\n",
    "아무 기법을 사용하지 않았을 때\n",
    "epoch = 1 학습시킨후의 정확도 "
   ]
  },
  {
   "cell_type": "code",
   "execution_count": 37,
   "id": "sustainable-dimension",
   "metadata": {
    "colab": {
     "base_uri": "https://localhost:8080/"
    },
    "id": "younger-recommendation",
    "outputId": "d8d66534-badb-43aa-8dfb-2d876a75f946"
   },
   "outputs": [
    {
     "name": "stderr",
     "output_type": "stream",
     "text": [
      "/home/ec2-user/anaconda3/envs/pytorch_p27/lib/python2.7/site-packages/ipykernel/__main__.py:6: UserWarning: volatile was removed and now has no effect. Use `with torch.no_grad():` instead.\n"
     ]
    },
    {
     "name": "stdout",
     "output_type": "stream",
     "text": [
      "Accuracy of Test Data: 15.8900003433\n"
     ]
    }
   ],
   "source": [
    "ComputeAccr(test_loader,model)"
   ]
  },
  {
   "cell_type": "markdown",
   "id": "loaded-preliminary",
   "metadata": {
    "id": "primary-discretion"
   },
   "source": [
    "### (1) Drop out\n",
    "'2 - 4 모델선언'에 가서 #Drop out이 된 주석을 지운다. (4줄)"
   ]
  },
  {
   "cell_type": "code",
   "execution_count": 24,
   "id": "rational-abortion",
   "metadata": {
    "colab": {
     "base_uri": "https://localhost:8080/"
    },
    "id": "olympic-regulation",
    "outputId": "c3037ebf-b21a-4ddc-a445-d1f2ce9a5c0f"
   },
   "outputs": [
    {
     "name": "stderr",
     "output_type": "stream",
     "text": [
      "/home/ec2-user/anaconda3/envs/pytorch_p27/lib/python2.7/site-packages/ipykernel/__main__.py:6: UserWarning: volatile was removed and now has no effect. Use `with torch.no_grad():` instead.\n"
     ]
    },
    {
     "name": "stdout",
     "output_type": "stream",
     "text": [
      "Accuracy of Test Data: 13.1499996185\n"
     ]
    }
   ],
   "source": [
    "ComputeAccr(test_loader,model)"
   ]
  },
  {
   "cell_type": "markdown",
   "id": "eastern-tourism",
   "metadata": {
    "id": "planned-northern"
   },
   "source": [
    "### (2) Data augmentation\n",
    "1번에 가서 (2) 주석을 지운다"
   ]
  },
  {
   "cell_type": "code",
   "execution_count": 31,
   "id": "independent-positive",
   "metadata": {
    "colab": {
     "base_uri": "https://localhost:8080/"
    },
    "id": "configured-ground",
    "outputId": "b9ba39eb-0821-4653-813b-433dc80dff6c"
   },
   "outputs": [
    {
     "name": "stderr",
     "output_type": "stream",
     "text": [
      "/home/ec2-user/anaconda3/envs/pytorch_p27/lib/python2.7/site-packages/ipykernel/__main__.py:6: UserWarning: volatile was removed and now has no effect. Use `with torch.no_grad():` instead.\n"
     ]
    },
    {
     "name": "stdout",
     "output_type": "stream",
     "text": [
      "Accuracy of Test Data: 14.1400003433\n"
     ]
    }
   ],
   "source": [
    "ComputeAccr(test_loader,model)"
   ]
  },
  {
   "cell_type": "markdown",
   "id": "statutory-speaking",
   "metadata": {
    "id": "cloudy-confirmation"
   },
   "source": [
    "여기서부터는 google colab 결과(GPU사용)\n",
    "\n",
    "### (3) Weight initialization\n",
    "파라미터(He)를 초기화 하는 방법\n",
    "\n",
    "'2 - 4 모델선언'에 가서 (3) 주석을 지운다."
   ]
  },
  {
   "cell_type": "code",
   "execution_count": null,
   "id": "generous-siemens",
   "metadata": {
    "colab": {
     "base_uri": "https://localhost:8080/"
    },
    "id": "greek-rwanda",
    "outputId": "e90e53a8-237f-4b14-a993-48a6d46b0404"
   },
   "outputs": [
    {
     "name": "stderr",
     "output_type": "stream",
     "text": [
      "/usr/local/lib/python3.7/dist-packages/ipykernel_launcher.py:6: UserWarning: volatile was removed and now has no effect. Use `with torch.no_grad():` instead.\n",
      "  \n"
     ]
    },
    {
     "name": "stdout",
     "output_type": "stream",
     "text": [
      "Accuracy of Test Data: 47.57999801635742\n"
     ]
    }
   ],
   "source": [
    "ComputeAccr(test_loader,model)"
   ]
  },
  {
   "cell_type": "markdown",
   "id": "coordinated-cathedral",
   "metadata": {
    "id": "written-lesson"
   },
   "source": [
    "### (4) Data Normalization\n",
    "1번에 가서 (4) 주석 지우기"
   ]
  },
  {
   "cell_type": "code",
   "execution_count": null,
   "id": "spanish-prediction",
   "metadata": {
    "colab": {
     "base_uri": "https://localhost:8080/"
    },
    "id": "adaptive-possibility",
    "outputId": "6e65ddc9-a001-4489-d46b-c239ed0e8ae0"
   },
   "outputs": [
    {
     "name": "stderr",
     "output_type": "stream",
     "text": [
      "/usr/local/lib/python3.7/dist-packages/ipykernel_launcher.py:6: UserWarning: volatile was removed and now has no effect. Use `with torch.no_grad():` instead.\n",
      "  \n"
     ]
    },
    {
     "name": "stdout",
     "output_type": "stream",
     "text": [
      "Accuracy of Test Data: 26.959999084472656\n"
     ]
    }
   ],
   "source": [
    "ComputeAccr(test_loader,model)"
   ]
  },
  {
   "cell_type": "markdown",
   "id": "written-orleans",
   "metadata": {
    "id": "educational-republican"
   },
   "source": [
    "### (5) Batch Normalization\n",
    "'2 - 4 모델선언'에 가서 (5) 주석을 지운다. (4줄)"
   ]
  },
  {
   "cell_type": "code",
   "execution_count": null,
   "id": "previous-filing",
   "metadata": {
    "colab": {
     "base_uri": "https://localhost:8080/"
    },
    "id": "attempted-aaron",
    "outputId": "0c0c3cee-51c7-466c-9b5c-2292ba95c62a"
   },
   "outputs": [
    {
     "name": "stderr",
     "output_type": "stream",
     "text": [
      "/usr/local/lib/python3.7/dist-packages/ipykernel_launcher.py:6: UserWarning: volatile was removed and now has no effect. Use `with torch.no_grad():` instead.\n",
      "  \n"
     ]
    },
    {
     "name": "stdout",
     "output_type": "stream",
     "text": [
      "Accuracy of Test Data: 61.04999923706055\n"
     ]
    }
   ],
   "source": [
    "ComputeAccr(test_loader,model)"
   ]
  },
  {
   "cell_type": "markdown",
   "id": "composed-closer",
   "metadata": {
    "id": "pleased-terrorism"
   },
   "source": [
    "### (6) Adam optimizer\n",
    "'2 - 5 loss, optimizer'에 가서 (6) 주석을 지운다."
   ]
  },
  {
   "cell_type": "code",
   "execution_count": null,
   "id": "mature-filter",
   "metadata": {
    "colab": {
     "base_uri": "https://localhost:8080/"
    },
    "id": "promotional-meditation",
    "outputId": "26927ee6-5922-468f-c47e-8f0d0858cd27"
   },
   "outputs": [
    {
     "name": "stderr",
     "output_type": "stream",
     "text": [
      "/usr/local/lib/python3.7/dist-packages/ipykernel_launcher.py:6: UserWarning: volatile was removed and now has no effect. Use `with torch.no_grad():` instead.\n",
      "  \n"
     ]
    },
    {
     "name": "stdout",
     "output_type": "stream",
     "text": [
      "Accuracy of Test Data: 59.07999801635742\n"
     ]
    }
   ],
   "source": [
    "ComputeAccr(test_loader,model)"
   ]
  },
  {
   "cell_type": "markdown",
   "id": "mature-spencer",
   "metadata": {
    "id": "statutory-unknown"
   },
   "source": [
    "### (7) Learning rate decay\n",
    "'2 - 5 loss, optimizer'에 가서 (7) 주석을 지운다.\n",
    "\n",
    "learning rate를 크게 했다가 점점 작게 \n",
    "epoch 크기를 크게 바꿔야함\n",
    "\n",
    "epoch = 100"
   ]
  },
  {
   "cell_type": "code",
   "execution_count": null,
   "id": "endless-trinity",
   "metadata": {
    "colab": {
     "base_uri": "https://localhost:8080/"
    },
    "id": "numerous-intelligence",
    "outputId": "1ac82a00-d3ae-44d9-bbae-047a0bad5cf0"
   },
   "outputs": [
    {
     "name": "stderr",
     "output_type": "stream",
     "text": [
      "/usr/local/lib/python3.7/dist-packages/ipykernel_launcher.py:6: UserWarning: volatile was removed and now has no effect. Use `with torch.no_grad():` instead.\n",
      "  \n"
     ]
    },
    {
     "name": "stdout",
     "output_type": "stream",
     "text": [
      "Accuracy of Test Data: 65.54999542236328\n"
     ]
    }
   ],
   "source": [
    "ComputeAccr(test_loader,model)"
   ]
  },
  {
   "cell_type": "markdown",
   "id": "fancy-bikini",
   "metadata": {
    "id": "laughing-beginning"
   },
   "source": [
    "### 학습된 파라미터 저장"
   ]
  },
  {
   "cell_type": "code",
   "execution_count": 12,
   "id": "painful-recommendation",
   "metadata": {
    "id": "gross-performer"
   },
   "outputs": [],
   "source": [
    "netname = './nets/mlp_weight.pk'\n",
    "torch.save(model, netname, )\n",
    "\n",
    "#model = torch.load(netname) #로드 가져오기"
   ]
  },
  {
   "cell_type": "code",
   "execution_count": null,
   "id": "neither-brunswick",
   "metadata": {},
   "outputs": [],
   "source": []
  }
 ],
 "metadata": {
  "accelerator": "GPU",
  "colab": {
   "collapsed_sections": [],
   "name": "Practice04_CIFAR10_CNN.ipynb",
   "provenance": []
  },
  "kernelspec": {
   "display_name": "conda_pytorch_p27",
   "language": "python",
   "name": "conda_pytorch_p27"
  },
  "language_info": {
   "codemirror_mode": {
    "name": "ipython",
    "version": 2
   },
   "file_extension": ".py",
   "mimetype": "text/x-python",
   "name": "python",
   "nbconvert_exporter": "python",
   "pygments_lexer": "ipython2",
   "version": "2.7.16"
  }
 },
 "nbformat": 4,
 "nbformat_minor": 5
}
